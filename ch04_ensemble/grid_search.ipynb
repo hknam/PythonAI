{
 "cells": [
  {
   "cell_type": "code",
   "execution_count": 1,
   "metadata": {},
   "outputs": [
    {
     "name": "stderr",
     "output_type": "stream",
     "text": [
      "/Users/hknam/anaconda3/lib/python3.6/site-packages/sklearn/cross_validation.py:41: DeprecationWarning: This module was deprecated in version 0.18 in favor of the model_selection module into which all the refactored classes and functions are moved. Also note that the interface of the new CV iterators are different from that of this module. This module will be removed in 0.20.\n",
      "  \"This module will be removed in 0.20.\", DeprecationWarning)\n",
      "/Users/hknam/anaconda3/lib/python3.6/site-packages/sklearn/grid_search.py:42: DeprecationWarning: This module was deprecated in version 0.18 in favor of the model_selection module into which all the refactored classes and functions are moved. This module will be removed in 0.20.\n",
      "  DeprecationWarning)\n"
     ]
    }
   ],
   "source": [
    "import numpy as np\n",
    "import matplotlib.pyplot as plt\n",
    "from sklearn.metrics import classification_report\n",
    "from sklearn import cross_validation, grid_search\n",
    "from sklearn.ensemble import ExtraTreesClassifier\n",
    "from utilities import visualize_classifier"
   ]
  },
  {
   "cell_type": "code",
   "execution_count": 2,
   "metadata": {},
   "outputs": [],
   "source": [
    "input_file = 'data_random_forests.txt'\n",
    "data = np.loadtxt('./data/' + input_file, delimiter = ',')\n",
    "X, y = data[:, :-1], data[:, -1]"
   ]
  },
  {
   "cell_type": "code",
   "execution_count": 3,
   "metadata": {
    "collapsed": true
   },
   "outputs": [],
   "source": [
    "class_0 = np.array(X[y == 0])\n",
    "class_1 = np.array(X[y == 1])\n",
    "class_2 = np.array(X[y == 2])"
   ]
  },
  {
   "cell_type": "code",
   "execution_count": 4,
   "metadata": {
    "collapsed": true
   },
   "outputs": [],
   "source": [
    "X_train, X_test, y_train, y_test = cross_validation.train_test_split(X, y, test_size = 0.25, random_state = 5)"
   ]
  },
  {
   "cell_type": "code",
   "execution_count": 5,
   "metadata": {},
   "outputs": [],
   "source": [
    "parameter_grid = [ {'n_estimators' : [100], 'max_depth' : [2, 4, 7, 12, 16]},\n",
    "                    {'max_depth' : [4], 'n_estimators' : [25, 50, 100, 250]}]"
   ]
  },
  {
   "cell_type": "code",
   "execution_count": 6,
   "metadata": {
    "collapsed": true
   },
   "outputs": [],
   "source": [
    "metrics = ['precision_weighted', 'recall_weighted']"
   ]
  },
  {
   "cell_type": "code",
   "execution_count": 7,
   "metadata": {},
   "outputs": [
    {
     "name": "stdout",
     "output_type": "stream",
     "text": [
      "#### Searching optimal parameters for precision_weighted\n",
      "#### Searching optimal parameters for recall_weighted\n"
     ]
    }
   ],
   "source": [
    "for metric in metrics:\n",
    "    print('#### Searching optimal parameters for', metric)\n",
    "    \n",
    "    classifier = grid_search.GridSearchCV(ExtraTreesClassifier(random_state = 0),\n",
    "                                         parameter_grid, cv = 5, scoring = metric)\n",
    "    classifier.fit(X_train, y_train)"
   ]
  },
  {
   "cell_type": "code",
   "execution_count": 8,
   "metadata": {},
   "outputs": [
    {
     "name": "stdout",
     "output_type": "stream",
     "text": [
      "Grid scores for the parameters grid :\n",
      "{'max_depth': 2, 'n_estimators': 100} ---> 0.84\n",
      "{'max_depth': 4, 'n_estimators': 100} ---> 0.837\n",
      "{'max_depth': 7, 'n_estimators': 100} ---> 0.841\n",
      "{'max_depth': 12, 'n_estimators': 100} ---> 0.834\n",
      "{'max_depth': 16, 'n_estimators': 100} ---> 0.816\n",
      "{'max_depth': 4, 'n_estimators': 25} ---> 0.843\n",
      "{'max_depth': 4, 'n_estimators': 50} ---> 0.836\n",
      "{'max_depth': 4, 'n_estimators': 100} ---> 0.837\n",
      "{'max_depth': 4, 'n_estimators': 250} ---> 0.841\n",
      "Best parameters :  {'max_depth': 4, 'n_estimators': 25}\n"
     ]
    }
   ],
   "source": [
    "print('Grid scores for the parameters grid :')\n",
    "for params, avg_score, _ in classifier.grid_scores_:\n",
    "    print(params, '--->', round(avg_score, 3))\n",
    "\n",
    "print('Best parameters : ', classifier.best_params_)"
   ]
  },
  {
   "cell_type": "code",
   "execution_count": 9,
   "metadata": {},
   "outputs": [
    {
     "name": "stdout",
     "output_type": "stream",
     "text": [
      "Performance report :\n",
      "             precision    recall  f1-score   support\n",
      "\n",
      "        0.0       0.93      0.84      0.88        79\n",
      "        1.0       0.85      0.86      0.85        70\n",
      "        2.0       0.84      0.92      0.88        76\n",
      "\n",
      "avg / total       0.87      0.87      0.87       225\n",
      "\n"
     ]
    }
   ],
   "source": [
    "y_pred = classifier.predict(X_test)\n",
    "print('Performance report :' )\n",
    "print(classification_report(y_test, y_pred))"
   ]
  }
 ],
 "metadata": {
  "kernelspec": {
   "display_name": "Python 3",
   "language": "python",
   "name": "python3"
  },
  "language_info": {
   "codemirror_mode": {
    "name": "ipython",
    "version": 3
   },
   "file_extension": ".py",
   "mimetype": "text/x-python",
   "name": "python",
   "nbconvert_exporter": "python",
   "pygments_lexer": "ipython3",
   "version": "3.6.3"
  }
 },
 "nbformat": 4,
 "nbformat_minor": 2
}
